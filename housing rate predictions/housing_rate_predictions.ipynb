{
 "cells": [
  {
   "cell_type": "markdown",
   "id": "aa5cd006",
   "metadata": {},
   "source": [
    "## 21CE133"
   ]
  },
  {
   "cell_type": "code",
   "execution_count": 1,
   "id": "990cff9d",
   "metadata": {},
   "outputs": [],
   "source": [
    "import pandas as pd\n",
    "import numpy as np"
   ]
  },
  {
   "cell_type": "code",
   "execution_count": 2,
   "id": "3ff532c8",
   "metadata": {},
   "outputs": [],
   "source": [
    "df = pd.read_csv(\"apartments_for_rent_classified_10K.csv\", encoding='latin1', delimiter=';')\n",
    "#read file"
   ]
  },
  {
   "cell_type": "code",
   "execution_count": 3,
   "id": "cdd66ed6",
   "metadata": {},
   "outputs": [
    {
     "data": {
      "text/html": [
       "<div>\n",
       "<style scoped>\n",
       "    .dataframe tbody tr th:only-of-type {\n",
       "        vertical-align: middle;\n",
       "    }\n",
       "\n",
       "    .dataframe tbody tr th {\n",
       "        vertical-align: top;\n",
       "    }\n",
       "\n",
       "    .dataframe thead th {\n",
       "        text-align: right;\n",
       "    }\n",
       "</style>\n",
       "<table border=\"1\" class=\"dataframe\">\n",
       "  <thead>\n",
       "    <tr style=\"text-align: right;\">\n",
       "      <th></th>\n",
       "      <th>id</th>\n",
       "      <th>category</th>\n",
       "      <th>title</th>\n",
       "      <th>body</th>\n",
       "      <th>amenities</th>\n",
       "      <th>bathrooms</th>\n",
       "      <th>bedrooms</th>\n",
       "      <th>currency</th>\n",
       "      <th>fee</th>\n",
       "      <th>has_photo</th>\n",
       "      <th>...</th>\n",
       "      <th>price_display</th>\n",
       "      <th>price_type</th>\n",
       "      <th>square_feet</th>\n",
       "      <th>address</th>\n",
       "      <th>cityname</th>\n",
       "      <th>state</th>\n",
       "      <th>latitude</th>\n",
       "      <th>longitude</th>\n",
       "      <th>source</th>\n",
       "      <th>time</th>\n",
       "    </tr>\n",
       "  </thead>\n",
       "  <tbody>\n",
       "    <tr>\n",
       "      <th>0</th>\n",
       "      <td>5668626895</td>\n",
       "      <td>housing/rent/apartment</td>\n",
       "      <td>Studio apartment 2nd St NE, Uhland Terrace NE,...</td>\n",
       "      <td>This unit is located at second St NE, Uhland T...</td>\n",
       "      <td>NaN</td>\n",
       "      <td>NaN</td>\n",
       "      <td>0.0</td>\n",
       "      <td>USD</td>\n",
       "      <td>No</td>\n",
       "      <td>Thumbnail</td>\n",
       "      <td>...</td>\n",
       "      <td>$790</td>\n",
       "      <td>Monthly</td>\n",
       "      <td>101</td>\n",
       "      <td>NaN</td>\n",
       "      <td>Washington</td>\n",
       "      <td>DC</td>\n",
       "      <td>38.9057</td>\n",
       "      <td>-76.9861</td>\n",
       "      <td>RentLingo</td>\n",
       "      <td>1577359415</td>\n",
       "    </tr>\n",
       "    <tr>\n",
       "      <th>1</th>\n",
       "      <td>5664597177</td>\n",
       "      <td>housing/rent/apartment</td>\n",
       "      <td>Studio apartment 814 Schutte Road</td>\n",
       "      <td>This unit is located at 814 Schutte Road, Evan...</td>\n",
       "      <td>NaN</td>\n",
       "      <td>NaN</td>\n",
       "      <td>1.0</td>\n",
       "      <td>USD</td>\n",
       "      <td>No</td>\n",
       "      <td>Thumbnail</td>\n",
       "      <td>...</td>\n",
       "      <td>$425</td>\n",
       "      <td>Monthly</td>\n",
       "      <td>106</td>\n",
       "      <td>814 Schutte Rd</td>\n",
       "      <td>Evansville</td>\n",
       "      <td>IN</td>\n",
       "      <td>37.9680</td>\n",
       "      <td>-87.6621</td>\n",
       "      <td>RentLingo</td>\n",
       "      <td>1577017063</td>\n",
       "    </tr>\n",
       "    <tr>\n",
       "      <th>2</th>\n",
       "      <td>5668626833</td>\n",
       "      <td>housing/rent/apartment</td>\n",
       "      <td>Studio apartment N Scott St, 14th St N, Arling...</td>\n",
       "      <td>This unit is located at N Scott St, 14th St N,...</td>\n",
       "      <td>NaN</td>\n",
       "      <td>1.0</td>\n",
       "      <td>0.0</td>\n",
       "      <td>USD</td>\n",
       "      <td>No</td>\n",
       "      <td>Thumbnail</td>\n",
       "      <td>...</td>\n",
       "      <td>$1,390</td>\n",
       "      <td>Monthly</td>\n",
       "      <td>107</td>\n",
       "      <td>NaN</td>\n",
       "      <td>Arlington</td>\n",
       "      <td>VA</td>\n",
       "      <td>38.8910</td>\n",
       "      <td>-77.0816</td>\n",
       "      <td>RentLingo</td>\n",
       "      <td>1577359410</td>\n",
       "    </tr>\n",
       "    <tr>\n",
       "      <th>3</th>\n",
       "      <td>5659918074</td>\n",
       "      <td>housing/rent/apartment</td>\n",
       "      <td>Studio apartment 1717 12th Ave</td>\n",
       "      <td>This unit is located at 1717 12th Ave, Seattle...</td>\n",
       "      <td>NaN</td>\n",
       "      <td>1.0</td>\n",
       "      <td>0.0</td>\n",
       "      <td>USD</td>\n",
       "      <td>No</td>\n",
       "      <td>Thumbnail</td>\n",
       "      <td>...</td>\n",
       "      <td>$925</td>\n",
       "      <td>Monthly</td>\n",
       "      <td>116</td>\n",
       "      <td>1717 12th Avenue</td>\n",
       "      <td>Seattle</td>\n",
       "      <td>WA</td>\n",
       "      <td>47.6160</td>\n",
       "      <td>-122.3275</td>\n",
       "      <td>RentLingo</td>\n",
       "      <td>1576667743</td>\n",
       "    </tr>\n",
       "    <tr>\n",
       "      <th>4</th>\n",
       "      <td>5668626759</td>\n",
       "      <td>housing/rent/apartment</td>\n",
       "      <td>Studio apartment Washington Blvd, N Cleveland ...</td>\n",
       "      <td>This unit is located at Washington Blvd, N Cle...</td>\n",
       "      <td>NaN</td>\n",
       "      <td>NaN</td>\n",
       "      <td>0.0</td>\n",
       "      <td>USD</td>\n",
       "      <td>No</td>\n",
       "      <td>Thumbnail</td>\n",
       "      <td>...</td>\n",
       "      <td>$880</td>\n",
       "      <td>Monthly</td>\n",
       "      <td>125</td>\n",
       "      <td>NaN</td>\n",
       "      <td>Arlington</td>\n",
       "      <td>VA</td>\n",
       "      <td>38.8738</td>\n",
       "      <td>-77.1055</td>\n",
       "      <td>RentLingo</td>\n",
       "      <td>1577359401</td>\n",
       "    </tr>\n",
       "  </tbody>\n",
       "</table>\n",
       "<p>5 rows × 22 columns</p>\n",
       "</div>"
      ],
      "text/plain": [
       "           id                category  \\\n",
       "0  5668626895  housing/rent/apartment   \n",
       "1  5664597177  housing/rent/apartment   \n",
       "2  5668626833  housing/rent/apartment   \n",
       "3  5659918074  housing/rent/apartment   \n",
       "4  5668626759  housing/rent/apartment   \n",
       "\n",
       "                                               title  \\\n",
       "0  Studio apartment 2nd St NE, Uhland Terrace NE,...   \n",
       "1                  Studio apartment 814 Schutte Road   \n",
       "2  Studio apartment N Scott St, 14th St N, Arling...   \n",
       "3                     Studio apartment 1717 12th Ave   \n",
       "4  Studio apartment Washington Blvd, N Cleveland ...   \n",
       "\n",
       "                                                body amenities  bathrooms  \\\n",
       "0  This unit is located at second St NE, Uhland T...       NaN        NaN   \n",
       "1  This unit is located at 814 Schutte Road, Evan...       NaN        NaN   \n",
       "2  This unit is located at N Scott St, 14th St N,...       NaN        1.0   \n",
       "3  This unit is located at 1717 12th Ave, Seattle...       NaN        1.0   \n",
       "4  This unit is located at Washington Blvd, N Cle...       NaN        NaN   \n",
       "\n",
       "   bedrooms currency fee  has_photo  ... price_display  price_type  \\\n",
       "0       0.0      USD  No  Thumbnail  ...          $790     Monthly   \n",
       "1       1.0      USD  No  Thumbnail  ...          $425     Monthly   \n",
       "2       0.0      USD  No  Thumbnail  ...        $1,390     Monthly   \n",
       "3       0.0      USD  No  Thumbnail  ...          $925     Monthly   \n",
       "4       0.0      USD  No  Thumbnail  ...          $880     Monthly   \n",
       "\n",
       "  square_feet           address    cityname state latitude longitude  \\\n",
       "0         101               NaN  Washington    DC  38.9057  -76.9861   \n",
       "1         106    814 Schutte Rd  Evansville    IN  37.9680  -87.6621   \n",
       "2         107               NaN   Arlington    VA  38.8910  -77.0816   \n",
       "3         116  1717 12th Avenue     Seattle    WA  47.6160 -122.3275   \n",
       "4         125               NaN   Arlington    VA  38.8738  -77.1055   \n",
       "\n",
       "      source        time  \n",
       "0  RentLingo  1577359415  \n",
       "1  RentLingo  1577017063  \n",
       "2  RentLingo  1577359410  \n",
       "3  RentLingo  1576667743  \n",
       "4  RentLingo  1577359401  \n",
       "\n",
       "[5 rows x 22 columns]"
      ]
     },
     "execution_count": 3,
     "metadata": {},
     "output_type": "execute_result"
    }
   ],
   "source": [
    "df.head()"
   ]
  },
  {
   "cell_type": "code",
   "execution_count": 4,
   "id": "5153d724",
   "metadata": {},
   "outputs": [
    {
     "data": {
      "text/plain": [
       "Index(['id', 'category', 'title', 'body', 'amenities', 'bathrooms', 'bedrooms',\n",
       "       'currency', 'fee', 'has_photo', 'pets_allowed', 'price',\n",
       "       'price_display', 'price_type', 'square_feet', 'address', 'cityname',\n",
       "       'state', 'latitude', 'longitude', 'source', 'time'],\n",
       "      dtype='object')"
      ]
     },
     "execution_count": 4,
     "metadata": {},
     "output_type": "execute_result"
    }
   ],
   "source": [
    "df.columns"
   ]
  },
  {
   "cell_type": "code",
   "execution_count": 5,
   "id": "d5be4965",
   "metadata": {},
   "outputs": [
    {
     "data": {
      "text/html": [
       "<div>\n",
       "<style scoped>\n",
       "    .dataframe tbody tr th:only-of-type {\n",
       "        vertical-align: middle;\n",
       "    }\n",
       "\n",
       "    .dataframe tbody tr th {\n",
       "        vertical-align: top;\n",
       "    }\n",
       "\n",
       "    .dataframe thead th {\n",
       "        text-align: right;\n",
       "    }\n",
       "</style>\n",
       "<table border=\"1\" class=\"dataframe\">\n",
       "  <thead>\n",
       "    <tr style=\"text-align: right;\">\n",
       "      <th></th>\n",
       "      <th>bathrooms</th>\n",
       "      <th>bedrooms</th>\n",
       "      <th>square_feet</th>\n",
       "      <th>cityname</th>\n",
       "      <th>price</th>\n",
       "    </tr>\n",
       "  </thead>\n",
       "  <tbody>\n",
       "    <tr>\n",
       "      <th>0</th>\n",
       "      <td>NaN</td>\n",
       "      <td>0.0</td>\n",
       "      <td>101</td>\n",
       "      <td>Washington</td>\n",
       "      <td>790</td>\n",
       "    </tr>\n",
       "    <tr>\n",
       "      <th>1</th>\n",
       "      <td>NaN</td>\n",
       "      <td>1.0</td>\n",
       "      <td>106</td>\n",
       "      <td>Evansville</td>\n",
       "      <td>425</td>\n",
       "    </tr>\n",
       "    <tr>\n",
       "      <th>2</th>\n",
       "      <td>1.0</td>\n",
       "      <td>0.0</td>\n",
       "      <td>107</td>\n",
       "      <td>Arlington</td>\n",
       "      <td>1390</td>\n",
       "    </tr>\n",
       "    <tr>\n",
       "      <th>3</th>\n",
       "      <td>1.0</td>\n",
       "      <td>0.0</td>\n",
       "      <td>116</td>\n",
       "      <td>Seattle</td>\n",
       "      <td>925</td>\n",
       "    </tr>\n",
       "    <tr>\n",
       "      <th>4</th>\n",
       "      <td>NaN</td>\n",
       "      <td>0.0</td>\n",
       "      <td>125</td>\n",
       "      <td>Arlington</td>\n",
       "      <td>880</td>\n",
       "    </tr>\n",
       "  </tbody>\n",
       "</table>\n",
       "</div>"
      ],
      "text/plain": [
       "   bathrooms  bedrooms  square_feet    cityname  price\n",
       "0        NaN       0.0          101  Washington    790\n",
       "1        NaN       1.0          106  Evansville    425\n",
       "2        1.0       0.0          107   Arlington   1390\n",
       "3        1.0       0.0          116     Seattle    925\n",
       "4        NaN       0.0          125   Arlington    880"
      ]
     },
     "execution_count": 5,
     "metadata": {},
     "output_type": "execute_result"
    }
   ],
   "source": [
    "selected_columns = ['bathrooms', 'bedrooms', 'square_feet', 'cityname', 'price']\n",
    "\n",
    "# Create a new DataFrame with only the selected columns\n",
    "df = df[selected_columns]\n",
    "df.head()"
   ]
  },
  {
   "cell_type": "code",
   "execution_count": 6,
   "id": "d0328c04",
   "metadata": {},
   "outputs": [
    {
     "data": {
      "text/plain": [
       "bathrooms      34\n",
       "bedrooms        7\n",
       "square_feet     0\n",
       "cityname       77\n",
       "price           0\n",
       "dtype: int64"
      ]
     },
     "execution_count": 6,
     "metadata": {},
     "output_type": "execute_result"
    }
   ],
   "source": [
    "df.isnull().sum()"
   ]
  },
  {
   "cell_type": "code",
   "execution_count": 7,
   "id": "015cfc1a",
   "metadata": {},
   "outputs": [],
   "source": [
    "df = df.dropna() #droping null"
   ]
  },
  {
   "cell_type": "code",
   "execution_count": 8,
   "id": "b45afd9b",
   "metadata": {},
   "outputs": [
    {
     "data": {
      "text/plain": [
       "bathrooms      0\n",
       "bedrooms       0\n",
       "square_feet    0\n",
       "cityname       0\n",
       "price          0\n",
       "dtype: int64"
      ]
     },
     "execution_count": 8,
     "metadata": {},
     "output_type": "execute_result"
    }
   ],
   "source": [
    "df.isnull().sum()"
   ]
  },
  {
   "cell_type": "code",
   "execution_count": 9,
   "id": "125babd8",
   "metadata": {},
   "outputs": [
    {
     "data": {
      "text/plain": [
       "(9883, 5)"
      ]
     },
     "execution_count": 9,
     "metadata": {},
     "output_type": "execute_result"
    }
   ],
   "source": [
    "df.shape"
   ]
  },
  {
   "cell_type": "code",
   "execution_count": 10,
   "id": "e5e3cd97",
   "metadata": {},
   "outputs": [
    {
     "data": {
      "text/plain": [
       "bathrooms      0\n",
       "bedrooms       0\n",
       "square_feet    0\n",
       "cityname       0\n",
       "price          0\n",
       "dtype: int64"
      ]
     },
     "execution_count": 10,
     "metadata": {},
     "output_type": "execute_result"
    }
   ],
   "source": [
    "df.isnull().sum()"
   ]
  },
  {
   "cell_type": "code",
   "execution_count": 11,
   "id": "21473817",
   "metadata": {},
   "outputs": [
    {
     "data": {
      "text/html": [
       "<div>\n",
       "<style scoped>\n",
       "    .dataframe tbody tr th:only-of-type {\n",
       "        vertical-align: middle;\n",
       "    }\n",
       "\n",
       "    .dataframe tbody tr th {\n",
       "        vertical-align: top;\n",
       "    }\n",
       "\n",
       "    .dataframe thead th {\n",
       "        text-align: right;\n",
       "    }\n",
       "</style>\n",
       "<table border=\"1\" class=\"dataframe\">\n",
       "  <thead>\n",
       "    <tr style=\"text-align: right;\">\n",
       "      <th></th>\n",
       "      <th>bathrooms</th>\n",
       "      <th>bedrooms</th>\n",
       "      <th>square_feet</th>\n",
       "      <th>price</th>\n",
       "    </tr>\n",
       "  </thead>\n",
       "  <tbody>\n",
       "    <tr>\n",
       "      <th>count</th>\n",
       "      <td>9883.000000</td>\n",
       "      <td>9883.000000</td>\n",
       "      <td>9883.000000</td>\n",
       "      <td>9883.000000</td>\n",
       "    </tr>\n",
       "    <tr>\n",
       "      <th>mean</th>\n",
       "      <td>1.380552</td>\n",
       "      <td>1.747040</td>\n",
       "      <td>943.237580</td>\n",
       "      <td>1486.954670</td>\n",
       "    </tr>\n",
       "    <tr>\n",
       "      <th>std</th>\n",
       "      <td>0.616038</td>\n",
       "      <td>0.941714</td>\n",
       "      <td>527.162123</td>\n",
       "      <td>1078.622808</td>\n",
       "    </tr>\n",
       "    <tr>\n",
       "      <th>min</th>\n",
       "      <td>1.000000</td>\n",
       "      <td>0.000000</td>\n",
       "      <td>107.000000</td>\n",
       "      <td>200.000000</td>\n",
       "    </tr>\n",
       "    <tr>\n",
       "      <th>25%</th>\n",
       "      <td>1.000000</td>\n",
       "      <td>1.000000</td>\n",
       "      <td>650.000000</td>\n",
       "      <td>949.000000</td>\n",
       "    </tr>\n",
       "    <tr>\n",
       "      <th>50%</th>\n",
       "      <td>1.000000</td>\n",
       "      <td>2.000000</td>\n",
       "      <td>803.000000</td>\n",
       "      <td>1275.000000</td>\n",
       "    </tr>\n",
       "    <tr>\n",
       "      <th>75%</th>\n",
       "      <td>2.000000</td>\n",
       "      <td>2.000000</td>\n",
       "      <td>1100.000000</td>\n",
       "      <td>1695.000000</td>\n",
       "    </tr>\n",
       "    <tr>\n",
       "      <th>max</th>\n",
       "      <td>8.500000</td>\n",
       "      <td>9.000000</td>\n",
       "      <td>11318.000000</td>\n",
       "      <td>52500.000000</td>\n",
       "    </tr>\n",
       "  </tbody>\n",
       "</table>\n",
       "</div>"
      ],
      "text/plain": [
       "         bathrooms     bedrooms   square_feet         price\n",
       "count  9883.000000  9883.000000   9883.000000   9883.000000\n",
       "mean      1.380552     1.747040    943.237580   1486.954670\n",
       "std       0.616038     0.941714    527.162123   1078.622808\n",
       "min       1.000000     0.000000    107.000000    200.000000\n",
       "25%       1.000000     1.000000    650.000000    949.000000\n",
       "50%       1.000000     2.000000    803.000000   1275.000000\n",
       "75%       2.000000     2.000000   1100.000000   1695.000000\n",
       "max       8.500000     9.000000  11318.000000  52500.000000"
      ]
     },
     "execution_count": 11,
     "metadata": {},
     "output_type": "execute_result"
    }
   ],
   "source": [
    "df.describe()"
   ]
  },
  {
   "cell_type": "code",
   "execution_count": 12,
   "id": "8dfd9f38",
   "metadata": {},
   "outputs": [
    {
     "data": {
      "text/html": [
       "<div>\n",
       "<style scoped>\n",
       "    .dataframe tbody tr th:only-of-type {\n",
       "        vertical-align: middle;\n",
       "    }\n",
       "\n",
       "    .dataframe tbody tr th {\n",
       "        vertical-align: top;\n",
       "    }\n",
       "\n",
       "    .dataframe thead th {\n",
       "        text-align: right;\n",
       "    }\n",
       "</style>\n",
       "<table border=\"1\" class=\"dataframe\">\n",
       "  <thead>\n",
       "    <tr style=\"text-align: right;\">\n",
       "      <th></th>\n",
       "      <th>bathrooms</th>\n",
       "      <th>bedrooms</th>\n",
       "      <th>square_feet</th>\n",
       "      <th>cityname</th>\n",
       "      <th>price</th>\n",
       "    </tr>\n",
       "  </thead>\n",
       "  <tbody>\n",
       "    <tr>\n",
       "      <th>2</th>\n",
       "      <td>1.0</td>\n",
       "      <td>0.0</td>\n",
       "      <td>107</td>\n",
       "      <td>Arlington</td>\n",
       "      <td>1390</td>\n",
       "    </tr>\n",
       "    <tr>\n",
       "      <th>3</th>\n",
       "      <td>1.0</td>\n",
       "      <td>0.0</td>\n",
       "      <td>116</td>\n",
       "      <td>Seattle</td>\n",
       "      <td>925</td>\n",
       "    </tr>\n",
       "    <tr>\n",
       "      <th>5</th>\n",
       "      <td>1.0</td>\n",
       "      <td>0.0</td>\n",
       "      <td>130</td>\n",
       "      <td>Manhattan</td>\n",
       "      <td>2475</td>\n",
       "    </tr>\n",
       "    <tr>\n",
       "      <th>8</th>\n",
       "      <td>1.0</td>\n",
       "      <td>0.0</td>\n",
       "      <td>138</td>\n",
       "      <td>San Francisco</td>\n",
       "      <td>1495</td>\n",
       "    </tr>\n",
       "    <tr>\n",
       "      <th>14</th>\n",
       "      <td>1.0</td>\n",
       "      <td>0.0</td>\n",
       "      <td>190</td>\n",
       "      <td>San Francisco</td>\n",
       "      <td>1695</td>\n",
       "    </tr>\n",
       "    <tr>\n",
       "      <th>...</th>\n",
       "      <td>...</td>\n",
       "      <td>...</td>\n",
       "      <td>...</td>\n",
       "      <td>...</td>\n",
       "      <td>...</td>\n",
       "    </tr>\n",
       "    <tr>\n",
       "      <th>9994</th>\n",
       "      <td>4.0</td>\n",
       "      <td>6.0</td>\n",
       "      <td>5921</td>\n",
       "      <td>Saint George</td>\n",
       "      <td>3000</td>\n",
       "    </tr>\n",
       "    <tr>\n",
       "      <th>9995</th>\n",
       "      <td>4.0</td>\n",
       "      <td>5.0</td>\n",
       "      <td>6300</td>\n",
       "      <td>Edina</td>\n",
       "      <td>6000</td>\n",
       "    </tr>\n",
       "    <tr>\n",
       "      <th>9996</th>\n",
       "      <td>8.0</td>\n",
       "      <td>6.0</td>\n",
       "      <td>8716</td>\n",
       "      <td>Montecito</td>\n",
       "      <td>25000</td>\n",
       "    </tr>\n",
       "    <tr>\n",
       "      <th>9997</th>\n",
       "      <td>8.5</td>\n",
       "      <td>6.0</td>\n",
       "      <td>11318</td>\n",
       "      <td>Potomac</td>\n",
       "      <td>11000</td>\n",
       "    </tr>\n",
       "    <tr>\n",
       "      <th>9999</th>\n",
       "      <td>1.0</td>\n",
       "      <td>1.0</td>\n",
       "      <td>880</td>\n",
       "      <td>Lawrenceville</td>\n",
       "      <td>1009</td>\n",
       "    </tr>\n",
       "  </tbody>\n",
       "</table>\n",
       "<p>9883 rows × 5 columns</p>\n",
       "</div>"
      ],
      "text/plain": [
       "      bathrooms  bedrooms  square_feet       cityname  price\n",
       "2           1.0       0.0          107      Arlington   1390\n",
       "3           1.0       0.0          116        Seattle    925\n",
       "5           1.0       0.0          130      Manhattan   2475\n",
       "8           1.0       0.0          138  San Francisco   1495\n",
       "14          1.0       0.0          190  San Francisco   1695\n",
       "...         ...       ...          ...            ...    ...\n",
       "9994        4.0       6.0         5921   Saint George   3000\n",
       "9995        4.0       5.0         6300          Edina   6000\n",
       "9996        8.0       6.0         8716      Montecito  25000\n",
       "9997        8.5       6.0        11318        Potomac  11000\n",
       "9999        1.0       1.0          880  Lawrenceville   1009\n",
       "\n",
       "[9883 rows x 5 columns]"
      ]
     },
     "execution_count": 12,
     "metadata": {},
     "output_type": "execute_result"
    }
   ],
   "source": [
    "df"
   ]
  },
  {
   "cell_type": "code",
   "execution_count": 13,
   "id": "3e8a43e5",
   "metadata": {
    "scrolled": true
   },
   "outputs": [
    {
     "data": {
      "text/plain": [
       "array(['Arlington', 'Seattle', 'Manhattan', ..., 'Saint Leonard',\n",
       "       'Chaska', 'Bella Vista'], dtype=object)"
      ]
     },
     "execution_count": 13,
     "metadata": {},
     "output_type": "execute_result"
    }
   ],
   "source": [
    "df.cityname.unique()"
   ]
  },
  {
   "cell_type": "code",
   "execution_count": 14,
   "id": "09645d53",
   "metadata": {
    "scrolled": false
   },
   "outputs": [
    {
     "data": {
      "text/plain": [
       "cityname\n",
       "Austin         522\n",
       "Dallas         215\n",
       "Houston        186\n",
       "San Antonio    182\n",
       "Los Angeles    165\n",
       "              ... \n",
       "Del Mar          1\n",
       "Pennsauken       1\n",
       "Leon Valley      1\n",
       "Buckeye          1\n",
       "Penns Grove      1\n",
       "Name: cityname, Length: 1572, dtype: int64"
      ]
     },
     "execution_count": 14,
     "metadata": {},
     "output_type": "execute_result"
    }
   ],
   "source": [
    "df.cityname = df.cityname.apply(lambda x: x.strip())\n",
    "loction_stats = df.groupby('cityname')['cityname'].agg('count').sort_values(ascending=False)\n",
    "loction_stats\n",
    "#Examine locations which is a categorical variable. We need to apply dimensionality reduction technique here to reduce number of locations"
   ]
  },
  {
   "cell_type": "code",
   "execution_count": 15,
   "id": "9ae98d7f",
   "metadata": {
    "scrolled": true
   },
   "outputs": [
    {
     "data": {
      "text/plain": [
       "1395"
      ]
     },
     "execution_count": 15,
     "metadata": {},
     "output_type": "execute_result"
    }
   ],
   "source": [
    "len(loction_stats[loction_stats<=10])"
   ]
  },
  {
   "cell_type": "code",
   "execution_count": 16,
   "id": "ee20cda9",
   "metadata": {},
   "outputs": [
    {
     "data": {
      "text/plain": [
       "cityname\n",
       "Cambridge      10\n",
       "Shreveport     10\n",
       "Flanders       10\n",
       "Memphis        10\n",
       "Sacramento     10\n",
       "               ..\n",
       "Del Mar         1\n",
       "Pennsauken      1\n",
       "Leon Valley     1\n",
       "Buckeye         1\n",
       "Penns Grove     1\n",
       "Name: cityname, Length: 1395, dtype: int64"
      ]
     },
     "execution_count": 16,
     "metadata": {},
     "output_type": "execute_result"
    }
   ],
   "source": [
    "loction_stats_less_than_10 = loction_stats[loction_stats<=10]\n",
    "loction_stats_less_than_10\n",
    "#Any location having less than 10 data points should be tagged as \"other\" location. This way number of categories can be reduced by huge amount. Later on when we do one hot encoding, it will help us with having fewer dummy columns\n"
   ]
  },
  {
   "cell_type": "code",
   "execution_count": 17,
   "id": "dc69f8b7",
   "metadata": {},
   "outputs": [
    {
     "data": {
      "text/plain": [
       "1572"
      ]
     },
     "execution_count": 17,
     "metadata": {},
     "output_type": "execute_result"
    }
   ],
   "source": [
    "len(df.cityname.unique())"
   ]
  },
  {
   "cell_type": "code",
   "execution_count": 18,
   "id": "e47389d7",
   "metadata": {
    "scrolled": true
   },
   "outputs": [
    {
     "data": {
      "text/plain": [
       "178"
      ]
     },
     "execution_count": 18,
     "metadata": {},
     "output_type": "execute_result"
    }
   ],
   "source": [
    "df.cityname = df.cityname.apply(lambda x: 'other' if x in loction_stats_less_than_10 else x)\n",
    "len(df.cityname.unique())"
   ]
  },
  {
   "cell_type": "code",
   "execution_count": 19,
   "id": "b6bba5e5",
   "metadata": {
    "scrolled": true
   },
   "outputs": [
    {
     "data": {
      "text/plain": [
       "(9883, 5)"
      ]
     },
     "execution_count": 19,
     "metadata": {},
     "output_type": "execute_result"
    }
   ],
   "source": [
    "df.shape"
   ]
  },
  {
   "cell_type": "code",
   "execution_count": 20,
   "id": "6f37894f",
   "metadata": {
    "scrolled": true
   },
   "outputs": [
    {
     "data": {
      "text/html": [
       "<div>\n",
       "<style scoped>\n",
       "    .dataframe tbody tr th:only-of-type {\n",
       "        vertical-align: middle;\n",
       "    }\n",
       "\n",
       "    .dataframe tbody tr th {\n",
       "        vertical-align: top;\n",
       "    }\n",
       "\n",
       "    .dataframe thead th {\n",
       "        text-align: right;\n",
       "    }\n",
       "</style>\n",
       "<table border=\"1\" class=\"dataframe\">\n",
       "  <thead>\n",
       "    <tr style=\"text-align: right;\">\n",
       "      <th></th>\n",
       "      <th>bathrooms</th>\n",
       "      <th>bedrooms</th>\n",
       "      <th>square_feet</th>\n",
       "      <th>cityname</th>\n",
       "      <th>price</th>\n",
       "    </tr>\n",
       "  </thead>\n",
       "  <tbody>\n",
       "    <tr>\n",
       "      <th>15</th>\n",
       "      <td>1.0</td>\n",
       "      <td>1.0</td>\n",
       "      <td>200</td>\n",
       "      <td>other</td>\n",
       "      <td>1560</td>\n",
       "    </tr>\n",
       "    <tr>\n",
       "      <th>16</th>\n",
       "      <td>1.0</td>\n",
       "      <td>1.0</td>\n",
       "      <td>200</td>\n",
       "      <td>other</td>\n",
       "      <td>1560</td>\n",
       "    </tr>\n",
       "    <tr>\n",
       "      <th>17</th>\n",
       "      <td>1.0</td>\n",
       "      <td>1.0</td>\n",
       "      <td>200</td>\n",
       "      <td>Spring</td>\n",
       "      <td>1000</td>\n",
       "    </tr>\n",
       "    <tr>\n",
       "      <th>18</th>\n",
       "      <td>1.0</td>\n",
       "      <td>1.0</td>\n",
       "      <td>200</td>\n",
       "      <td>other</td>\n",
       "      <td>950</td>\n",
       "    </tr>\n",
       "    <tr>\n",
       "      <th>19</th>\n",
       "      <td>1.0</td>\n",
       "      <td>1.0</td>\n",
       "      <td>200</td>\n",
       "      <td>Marietta</td>\n",
       "      <td>625</td>\n",
       "    </tr>\n",
       "  </tbody>\n",
       "</table>\n",
       "</div>"
      ],
      "text/plain": [
       "    bathrooms  bedrooms  square_feet  cityname  price\n",
       "15        1.0       1.0          200     other   1560\n",
       "16        1.0       1.0          200     other   1560\n",
       "17        1.0       1.0          200    Spring   1000\n",
       "18        1.0       1.0          200     other    950\n",
       "19        1.0       1.0          200  Marietta    625"
      ]
     },
     "execution_count": 20,
     "metadata": {},
     "output_type": "execute_result"
    }
   ],
   "source": [
    "df[df.square_feet/df.bedrooms<250].head()# we cannot justify a bedroom have area<250 sqft"
   ]
  },
  {
   "cell_type": "code",
   "execution_count": 21,
   "id": "3c83b5eb",
   "metadata": {},
   "outputs": [
    {
     "data": {
      "text/plain": [
       "(9883, 5)"
      ]
     },
     "execution_count": 21,
     "metadata": {},
     "output_type": "execute_result"
    }
   ],
   "source": [
    "df.shape"
   ]
  },
  {
   "cell_type": "code",
   "execution_count": 22,
   "id": "75ab9b63",
   "metadata": {},
   "outputs": [
    {
     "name": "stdout",
     "output_type": "stream",
     "text": [
      "184\n"
     ]
    }
   ],
   "source": [
    "zero_bed_rows = df[df['bedrooms'] == 0]\n",
    "print(len(zero_bed_rows))"
   ]
  },
  {
   "cell_type": "code",
   "execution_count": 23,
   "id": "b03f7cc9",
   "metadata": {
    "scrolled": false
   },
   "outputs": [
    {
     "data": {
      "text/plain": [
       "(399, 5)"
      ]
     },
     "execution_count": 23,
     "metadata": {},
     "output_type": "execute_result"
    }
   ],
   "source": [
    "df[df.square_feet/df.bedrooms<250].shape #how many row with 250 sqft"
   ]
  },
  {
   "cell_type": "code",
   "execution_count": 24,
   "id": "69b625ae",
   "metadata": {},
   "outputs": [
    {
     "data": {
      "text/plain": [
       "(9484, 5)"
      ]
     },
     "execution_count": 24,
     "metadata": {},
     "output_type": "execute_result"
    }
   ],
   "source": [
    "df1 = df[~(df.square_feet/df.bedrooms<250)]\n",
    "df1.shape"
   ]
  },
  {
   "cell_type": "code",
   "execution_count": 25,
   "id": "d45ee6a0",
   "metadata": {
    "scrolled": false
   },
   "outputs": [
    {
     "data": {
      "text/plain": [
       "count     9484.000000\n",
       "mean       963.476276\n",
       "std        527.998723\n",
       "min        107.000000\n",
       "25%        663.000000\n",
       "50%        825.000000\n",
       "75%       1113.250000\n",
       "max      11318.000000\n",
       "Name: square_feet, dtype: float64"
      ]
     },
     "execution_count": 25,
     "metadata": {},
     "output_type": "execute_result"
    }
   ],
   "source": [
    "df1.square_feet.describe()"
   ]
  },
  {
   "cell_type": "code",
   "execution_count": 26,
   "id": "c40ad244",
   "metadata": {
    "scrolled": false
   },
   "outputs": [
    {
     "data": {
      "text/plain": [
       "bathrooms      0\n",
       "bedrooms       0\n",
       "square_feet    0\n",
       "cityname       0\n",
       "price          0\n",
       "dtype: int64"
      ]
     },
     "execution_count": 26,
     "metadata": {},
     "output_type": "execute_result"
    }
   ],
   "source": [
    "df1.isnull().sum()"
   ]
  },
  {
   "cell_type": "code",
   "execution_count": 27,
   "id": "116bdeae",
   "metadata": {
    "scrolled": true
   },
   "outputs": [
    {
     "data": {
      "text/html": [
       "<div>\n",
       "<style scoped>\n",
       "    .dataframe tbody tr th:only-of-type {\n",
       "        vertical-align: middle;\n",
       "    }\n",
       "\n",
       "    .dataframe tbody tr th {\n",
       "        vertical-align: top;\n",
       "    }\n",
       "\n",
       "    .dataframe thead th {\n",
       "        text-align: right;\n",
       "    }\n",
       "</style>\n",
       "<table border=\"1\" class=\"dataframe\">\n",
       "  <thead>\n",
       "    <tr style=\"text-align: right;\">\n",
       "      <th></th>\n",
       "      <th>bathrooms</th>\n",
       "      <th>bedrooms</th>\n",
       "      <th>square_feet</th>\n",
       "      <th>cityname</th>\n",
       "      <th>price</th>\n",
       "      <th>price_per_sqft</th>\n",
       "    </tr>\n",
       "  </thead>\n",
       "  <tbody>\n",
       "    <tr>\n",
       "      <th>2</th>\n",
       "      <td>1.0</td>\n",
       "      <td>0.0</td>\n",
       "      <td>107</td>\n",
       "      <td>Arlington</td>\n",
       "      <td>1390</td>\n",
       "      <td>1.299065e+06</td>\n",
       "    </tr>\n",
       "    <tr>\n",
       "      <th>3</th>\n",
       "      <td>1.0</td>\n",
       "      <td>0.0</td>\n",
       "      <td>116</td>\n",
       "      <td>Seattle</td>\n",
       "      <td>925</td>\n",
       "      <td>7.974138e+05</td>\n",
       "    </tr>\n",
       "    <tr>\n",
       "      <th>5</th>\n",
       "      <td>1.0</td>\n",
       "      <td>0.0</td>\n",
       "      <td>130</td>\n",
       "      <td>other</td>\n",
       "      <td>2475</td>\n",
       "      <td>1.903846e+06</td>\n",
       "    </tr>\n",
       "    <tr>\n",
       "      <th>8</th>\n",
       "      <td>1.0</td>\n",
       "      <td>0.0</td>\n",
       "      <td>138</td>\n",
       "      <td>San Francisco</td>\n",
       "      <td>1495</td>\n",
       "      <td>1.083333e+06</td>\n",
       "    </tr>\n",
       "    <tr>\n",
       "      <th>14</th>\n",
       "      <td>1.0</td>\n",
       "      <td>0.0</td>\n",
       "      <td>190</td>\n",
       "      <td>San Francisco</td>\n",
       "      <td>1695</td>\n",
       "      <td>8.921053e+05</td>\n",
       "    </tr>\n",
       "  </tbody>\n",
       "</table>\n",
       "</div>"
      ],
      "text/plain": [
       "    bathrooms  bedrooms  square_feet       cityname  price  price_per_sqft\n",
       "2         1.0       0.0          107      Arlington   1390    1.299065e+06\n",
       "3         1.0       0.0          116        Seattle    925    7.974138e+05\n",
       "5         1.0       0.0          130          other   2475    1.903846e+06\n",
       "8         1.0       0.0          138  San Francisco   1495    1.083333e+06\n",
       "14        1.0       0.0          190  San Francisco   1695    8.921053e+05"
      ]
     },
     "execution_count": 27,
     "metadata": {},
     "output_type": "execute_result"
    }
   ],
   "source": [
    "df2 = df1.copy() # calculating price oer sqft\n",
    "df2['price_per_sqft'] = df2['price']*100000/df2['square_feet']\n",
    "df2.head()"
   ]
  },
  {
   "cell_type": "code",
   "execution_count": 28,
   "id": "330fcb41",
   "metadata": {},
   "outputs": [
    {
     "data": {
      "text/plain": [
       "(7478, 6)"
      ]
     },
     "execution_count": 28,
     "metadata": {},
     "output_type": "execute_result"
    }
   ],
   "source": [
    "#one standerd deviation\n",
    "#per location mean and standerd deviation\n",
    "#filter out data which are beyond this deviation\n",
    "def remove_pps_outliers(df):\n",
    "    df_out = pd.DataFrame()\n",
    "    for key, subdf in df.groupby('cityname'):\n",
    "        m = np.mean(subdf.price_per_sqft)#mean\n",
    "        st = np.std(subdf.price_per_sqft)#sandered deviation\n",
    "        reduced_df = subdf[(subdf.price_per_sqft>(m-st)) & (subdf.price_per_sqft<=(m+st))]\n",
    "        #beyond the deviation\n",
    "        df_out = pd.concat([df_out,reduced_df],ignore_index=True)\n",
    "    return df_out\n",
    "df7 = remove_pps_outliers(df2)\n",
    "df7.shape"
   ]
  },
  {
   "cell_type": "code",
   "execution_count": 29,
   "id": "b924b0b3",
   "metadata": {},
   "outputs": [],
   "source": [
    "df7 = df7[df7['bedrooms'] > 0] #removing row with 0 bedroom"
   ]
  },
  {
   "cell_type": "code",
   "execution_count": 30,
   "id": "8d6a77ec",
   "metadata": {
    "scrolled": true
   },
   "outputs": [
    {
     "data": {
      "text/html": [
       "<div>\n",
       "<style scoped>\n",
       "    .dataframe tbody tr th:only-of-type {\n",
       "        vertical-align: middle;\n",
       "    }\n",
       "\n",
       "    .dataframe tbody tr th {\n",
       "        vertical-align: top;\n",
       "    }\n",
       "\n",
       "    .dataframe thead th {\n",
       "        text-align: right;\n",
       "    }\n",
       "</style>\n",
       "<table border=\"1\" class=\"dataframe\">\n",
       "  <thead>\n",
       "    <tr style=\"text-align: right;\">\n",
       "      <th></th>\n",
       "      <th>bathrooms</th>\n",
       "      <th>bedrooms</th>\n",
       "      <th>square_feet</th>\n",
       "      <th>cityname</th>\n",
       "      <th>price</th>\n",
       "      <th>price_per_sqft</th>\n",
       "    </tr>\n",
       "  </thead>\n",
       "  <tbody>\n",
       "    <tr>\n",
       "      <th>0</th>\n",
       "      <td>1.0</td>\n",
       "      <td>1.0</td>\n",
       "      <td>535</td>\n",
       "      <td>Albuquerque</td>\n",
       "      <td>750</td>\n",
       "      <td>140186.915888</td>\n",
       "    </tr>\n",
       "    <tr>\n",
       "      <th>1</th>\n",
       "      <td>1.0</td>\n",
       "      <td>1.0</td>\n",
       "      <td>535</td>\n",
       "      <td>Albuquerque</td>\n",
       "      <td>750</td>\n",
       "      <td>140186.915888</td>\n",
       "    </tr>\n",
       "    <tr>\n",
       "      <th>2</th>\n",
       "      <td>1.0</td>\n",
       "      <td>1.0</td>\n",
       "      <td>562</td>\n",
       "      <td>Albuquerque</td>\n",
       "      <td>685</td>\n",
       "      <td>121886.120996</td>\n",
       "    </tr>\n",
       "    <tr>\n",
       "      <th>3</th>\n",
       "      <td>1.0</td>\n",
       "      <td>1.0</td>\n",
       "      <td>622</td>\n",
       "      <td>Albuquerque</td>\n",
       "      <td>739</td>\n",
       "      <td>118810.289389</td>\n",
       "    </tr>\n",
       "    <tr>\n",
       "      <th>4</th>\n",
       "      <td>1.0</td>\n",
       "      <td>1.0</td>\n",
       "      <td>656</td>\n",
       "      <td>Albuquerque</td>\n",
       "      <td>815</td>\n",
       "      <td>124237.804878</td>\n",
       "    </tr>\n",
       "    <tr>\n",
       "      <th>...</th>\n",
       "      <td>...</td>\n",
       "      <td>...</td>\n",
       "      <td>...</td>\n",
       "      <td>...</td>\n",
       "      <td>...</td>\n",
       "      <td>...</td>\n",
       "    </tr>\n",
       "    <tr>\n",
       "      <th>7473</th>\n",
       "      <td>3.5</td>\n",
       "      <td>5.0</td>\n",
       "      <td>4970</td>\n",
       "      <td>other</td>\n",
       "      <td>3980</td>\n",
       "      <td>80080.482897</td>\n",
       "    </tr>\n",
       "    <tr>\n",
       "      <th>7474</th>\n",
       "      <td>5.0</td>\n",
       "      <td>4.0</td>\n",
       "      <td>5407</td>\n",
       "      <td>other</td>\n",
       "      <td>4500</td>\n",
       "      <td>83225.448493</td>\n",
       "    </tr>\n",
       "    <tr>\n",
       "      <th>7475</th>\n",
       "      <td>5.0</td>\n",
       "      <td>5.0</td>\n",
       "      <td>5700</td>\n",
       "      <td>other</td>\n",
       "      <td>6900</td>\n",
       "      <td>121052.631579</td>\n",
       "    </tr>\n",
       "    <tr>\n",
       "      <th>7476</th>\n",
       "      <td>4.0</td>\n",
       "      <td>5.0</td>\n",
       "      <td>6300</td>\n",
       "      <td>other</td>\n",
       "      <td>6000</td>\n",
       "      <td>95238.095238</td>\n",
       "    </tr>\n",
       "    <tr>\n",
       "      <th>7477</th>\n",
       "      <td>8.5</td>\n",
       "      <td>6.0</td>\n",
       "      <td>11318</td>\n",
       "      <td>other</td>\n",
       "      <td>11000</td>\n",
       "      <td>97190.316310</td>\n",
       "    </tr>\n",
       "  </tbody>\n",
       "</table>\n",
       "<p>7382 rows × 6 columns</p>\n",
       "</div>"
      ],
      "text/plain": [
       "      bathrooms  bedrooms  square_feet     cityname  price  price_per_sqft\n",
       "0           1.0       1.0          535  Albuquerque    750   140186.915888\n",
       "1           1.0       1.0          535  Albuquerque    750   140186.915888\n",
       "2           1.0       1.0          562  Albuquerque    685   121886.120996\n",
       "3           1.0       1.0          622  Albuquerque    739   118810.289389\n",
       "4           1.0       1.0          656  Albuquerque    815   124237.804878\n",
       "...         ...       ...          ...          ...    ...             ...\n",
       "7473        3.5       5.0         4970        other   3980    80080.482897\n",
       "7474        5.0       4.0         5407        other   4500    83225.448493\n",
       "7475        5.0       5.0         5700        other   6900   121052.631579\n",
       "7476        4.0       5.0         6300        other   6000    95238.095238\n",
       "7477        8.5       6.0        11318        other  11000    97190.316310\n",
       "\n",
       "[7382 rows x 6 columns]"
      ]
     },
     "execution_count": 30,
     "metadata": {},
     "output_type": "execute_result"
    }
   ],
   "source": [
    "df7"
   ]
  },
  {
   "cell_type": "code",
   "execution_count": 31,
   "id": "ced23d34",
   "metadata": {},
   "outputs": [
    {
     "data": {
      "text/plain": [
       "(7163, 6)"
      ]
     },
     "execution_count": 31,
     "metadata": {},
     "output_type": "execute_result"
    }
   ],
   "source": [
    "# Look for outliers in square_feet and price\n",
    "sqft_mean = df7['square_feet'].mean()\n",
    "sqft_std = df7['square_feet'].std()\n",
    "price_mean = df7['price'].mean()\n",
    "price_std = df7['price'].std()\n",
    "\n",
    "df7 = df7[(np.abs(df7['square_feet'] - sqft_mean) < (3 * sqft_std)) & \n",
    "        (np.abs(df7['price'] - price_mean) < (3 * price_std))]\n",
    "\n",
    "# Check ranges\n",
    "df7 = df7[(df7['bathrooms'] >= 0) &\n",
    "        (df7['bedrooms'] >= 0) &\n",
    "        (df7['square_feet'] > 0) &\n",
    "        (df7['price'] > 0)]\n",
    "\n",
    "# Log transform skewed data\n",
    "df7['price'] = np.log(df7['price']) \n",
    "\n",
    "# Remove any remaining outliers\n",
    "df7 = df7[df7['price'] < df7['price'].mean() + 3*df7['price'].std()]\n",
    "\n",
    "df7.shape"
   ]
  },
  {
   "cell_type": "code",
   "execution_count": 32,
   "id": "0ac35e6c",
   "metadata": {
    "scrolled": true
   },
   "outputs": [
    {
     "data": {
      "text/html": [
       "<div>\n",
       "<style scoped>\n",
       "    .dataframe tbody tr th:only-of-type {\n",
       "        vertical-align: middle;\n",
       "    }\n",
       "\n",
       "    .dataframe tbody tr th {\n",
       "        vertical-align: top;\n",
       "    }\n",
       "\n",
       "    .dataframe thead th {\n",
       "        text-align: right;\n",
       "    }\n",
       "</style>\n",
       "<table border=\"1\" class=\"dataframe\">\n",
       "  <thead>\n",
       "    <tr style=\"text-align: right;\">\n",
       "      <th></th>\n",
       "      <th>bathrooms</th>\n",
       "      <th>bedrooms</th>\n",
       "      <th>square_feet</th>\n",
       "      <th>price</th>\n",
       "      <th>price_per_sqft</th>\n",
       "    </tr>\n",
       "  </thead>\n",
       "  <tbody>\n",
       "    <tr>\n",
       "      <th>count</th>\n",
       "      <td>7163.000000</td>\n",
       "      <td>7163.000000</td>\n",
       "      <td>7163.000000</td>\n",
       "      <td>7163.000000</td>\n",
       "      <td>7163.000000</td>\n",
       "    </tr>\n",
       "    <tr>\n",
       "      <th>mean</th>\n",
       "      <td>1.368072</td>\n",
       "      <td>1.698311</td>\n",
       "      <td>926.988552</td>\n",
       "      <td>7.134313</td>\n",
       "      <td>155842.344182</td>\n",
       "    </tr>\n",
       "    <tr>\n",
       "      <th>std</th>\n",
       "      <td>0.549088</td>\n",
       "      <td>0.823341</td>\n",
       "      <td>358.819539</td>\n",
       "      <td>0.401329</td>\n",
       "      <td>67307.910101</td>\n",
       "    </tr>\n",
       "    <tr>\n",
       "      <th>min</th>\n",
       "      <td>1.000000</td>\n",
       "      <td>1.000000</td>\n",
       "      <td>250.000000</td>\n",
       "      <td>5.298317</td>\n",
       "      <td>52002.464572</td>\n",
       "    </tr>\n",
       "    <tr>\n",
       "      <th>25%</th>\n",
       "      <td>1.000000</td>\n",
       "      <td>1.000000</td>\n",
       "      <td>682.000000</td>\n",
       "      <td>6.855409</td>\n",
       "      <td>109870.235426</td>\n",
       "    </tr>\n",
       "    <tr>\n",
       "      <th>50%</th>\n",
       "      <td>1.000000</td>\n",
       "      <td>2.000000</td>\n",
       "      <td>830.000000</td>\n",
       "      <td>7.130899</td>\n",
       "      <td>142556.770395</td>\n",
       "    </tr>\n",
       "    <tr>\n",
       "      <th>75%</th>\n",
       "      <td>2.000000</td>\n",
       "      <td>2.000000</td>\n",
       "      <td>1100.000000</td>\n",
       "      <td>7.383989</td>\n",
       "      <td>186111.111111</td>\n",
       "    </tr>\n",
       "    <tr>\n",
       "      <th>max</th>\n",
       "      <td>5.000000</td>\n",
       "      <td>6.000000</td>\n",
       "      <td>2455.000000</td>\n",
       "      <td>8.281471</td>\n",
       "      <td>716435.185185</td>\n",
       "    </tr>\n",
       "  </tbody>\n",
       "</table>\n",
       "</div>"
      ],
      "text/plain": [
       "         bathrooms     bedrooms  square_feet        price  price_per_sqft\n",
       "count  7163.000000  7163.000000  7163.000000  7163.000000     7163.000000\n",
       "mean      1.368072     1.698311   926.988552     7.134313   155842.344182\n",
       "std       0.549088     0.823341   358.819539     0.401329    67307.910101\n",
       "min       1.000000     1.000000   250.000000     5.298317    52002.464572\n",
       "25%       1.000000     1.000000   682.000000     6.855409   109870.235426\n",
       "50%       1.000000     2.000000   830.000000     7.130899   142556.770395\n",
       "75%       2.000000     2.000000  1100.000000     7.383989   186111.111111\n",
       "max       5.000000     6.000000  2455.000000     8.281471   716435.185185"
      ]
     },
     "execution_count": 32,
     "metadata": {},
     "output_type": "execute_result"
    }
   ],
   "source": [
    "df7.describe()"
   ]
  },
  {
   "cell_type": "code",
   "execution_count": 33,
   "id": "3e37c3ff",
   "metadata": {},
   "outputs": [],
   "source": [
    "df7 = df7.dropna(subset=['cityname'])"
   ]
  },
  {
   "cell_type": "code",
   "execution_count": 34,
   "id": "ba9c87f5",
   "metadata": {},
   "outputs": [
    {
     "data": {
      "text/plain": [
       "(7163, 6)"
      ]
     },
     "execution_count": 34,
     "metadata": {},
     "output_type": "execute_result"
    }
   ],
   "source": [
    "df7.shape"
   ]
  },
  {
   "cell_type": "code",
   "execution_count": 35,
   "id": "b2e22403",
   "metadata": {
    "scrolled": true
   },
   "outputs": [
    {
     "data": {
      "text/html": [
       "<div>\n",
       "<style scoped>\n",
       "    .dataframe tbody tr th:only-of-type {\n",
       "        vertical-align: middle;\n",
       "    }\n",
       "\n",
       "    .dataframe tbody tr th {\n",
       "        vertical-align: top;\n",
       "    }\n",
       "\n",
       "    .dataframe thead th {\n",
       "        text-align: right;\n",
       "    }\n",
       "</style>\n",
       "<table border=\"1\" class=\"dataframe\">\n",
       "  <thead>\n",
       "    <tr style=\"text-align: right;\">\n",
       "      <th></th>\n",
       "      <th>bathrooms</th>\n",
       "      <th>bedrooms</th>\n",
       "      <th>square_feet</th>\n",
       "      <th>cityname</th>\n",
       "      <th>price</th>\n",
       "      <th>price_per_sqft</th>\n",
       "    </tr>\n",
       "  </thead>\n",
       "  <tbody>\n",
       "    <tr>\n",
       "      <th>0</th>\n",
       "      <td>1.0</td>\n",
       "      <td>1.0</td>\n",
       "      <td>535</td>\n",
       "      <td>Albuquerque</td>\n",
       "      <td>6.620073</td>\n",
       "      <td>140186.915888</td>\n",
       "    </tr>\n",
       "    <tr>\n",
       "      <th>1</th>\n",
       "      <td>1.0</td>\n",
       "      <td>1.0</td>\n",
       "      <td>535</td>\n",
       "      <td>Albuquerque</td>\n",
       "      <td>6.620073</td>\n",
       "      <td>140186.915888</td>\n",
       "    </tr>\n",
       "    <tr>\n",
       "      <th>2</th>\n",
       "      <td>1.0</td>\n",
       "      <td>1.0</td>\n",
       "      <td>562</td>\n",
       "      <td>Albuquerque</td>\n",
       "      <td>6.529419</td>\n",
       "      <td>121886.120996</td>\n",
       "    </tr>\n",
       "    <tr>\n",
       "      <th>3</th>\n",
       "      <td>1.0</td>\n",
       "      <td>1.0</td>\n",
       "      <td>622</td>\n",
       "      <td>Albuquerque</td>\n",
       "      <td>6.605298</td>\n",
       "      <td>118810.289389</td>\n",
       "    </tr>\n",
       "    <tr>\n",
       "      <th>4</th>\n",
       "      <td>1.0</td>\n",
       "      <td>1.0</td>\n",
       "      <td>656</td>\n",
       "      <td>Albuquerque</td>\n",
       "      <td>6.703188</td>\n",
       "      <td>124237.804878</td>\n",
       "    </tr>\n",
       "    <tr>\n",
       "      <th>...</th>\n",
       "      <td>...</td>\n",
       "      <td>...</td>\n",
       "      <td>...</td>\n",
       "      <td>...</td>\n",
       "      <td>...</td>\n",
       "      <td>...</td>\n",
       "    </tr>\n",
       "    <tr>\n",
       "      <th>7364</th>\n",
       "      <td>2.5</td>\n",
       "      <td>3.0</td>\n",
       "      <td>2441</td>\n",
       "      <td>other</td>\n",
       "      <td>8.070906</td>\n",
       "      <td>131093.814011</td>\n",
       "    </tr>\n",
       "    <tr>\n",
       "      <th>7365</th>\n",
       "      <td>2.0</td>\n",
       "      <td>3.0</td>\n",
       "      <td>2446</td>\n",
       "      <td>other</td>\n",
       "      <td>7.345365</td>\n",
       "      <td>63327.882257</td>\n",
       "    </tr>\n",
       "    <tr>\n",
       "      <th>7366</th>\n",
       "      <td>3.5</td>\n",
       "      <td>4.0</td>\n",
       "      <td>2447</td>\n",
       "      <td>other</td>\n",
       "      <td>7.673223</td>\n",
       "      <td>87862.689007</td>\n",
       "    </tr>\n",
       "    <tr>\n",
       "      <th>7368</th>\n",
       "      <td>2.0</td>\n",
       "      <td>6.0</td>\n",
       "      <td>2454</td>\n",
       "      <td>other</td>\n",
       "      <td>7.663877</td>\n",
       "      <td>86797.066015</td>\n",
       "    </tr>\n",
       "    <tr>\n",
       "      <th>7369</th>\n",
       "      <td>3.0</td>\n",
       "      <td>4.0</td>\n",
       "      <td>2455</td>\n",
       "      <td>other</td>\n",
       "      <td>7.693937</td>\n",
       "      <td>89409.368635</td>\n",
       "    </tr>\n",
       "  </tbody>\n",
       "</table>\n",
       "<p>7163 rows × 6 columns</p>\n",
       "</div>"
      ],
      "text/plain": [
       "      bathrooms  bedrooms  square_feet     cityname     price  price_per_sqft\n",
       "0           1.0       1.0          535  Albuquerque  6.620073   140186.915888\n",
       "1           1.0       1.0          535  Albuquerque  6.620073   140186.915888\n",
       "2           1.0       1.0          562  Albuquerque  6.529419   121886.120996\n",
       "3           1.0       1.0          622  Albuquerque  6.605298   118810.289389\n",
       "4           1.0       1.0          656  Albuquerque  6.703188   124237.804878\n",
       "...         ...       ...          ...          ...       ...             ...\n",
       "7364        2.5       3.0         2441        other  8.070906   131093.814011\n",
       "7365        2.0       3.0         2446        other  7.345365    63327.882257\n",
       "7366        3.5       4.0         2447        other  7.673223    87862.689007\n",
       "7368        2.0       6.0         2454        other  7.663877    86797.066015\n",
       "7369        3.0       4.0         2455        other  7.693937    89409.368635\n",
       "\n",
       "[7163 rows x 6 columns]"
      ]
     },
     "execution_count": 35,
     "metadata": {},
     "output_type": "execute_result"
    }
   ],
   "source": [
    "df7"
   ]
  },
  {
   "cell_type": "code",
   "execution_count": 36,
   "id": "51dc7232",
   "metadata": {
    "scrolled": false
   },
   "outputs": [
    {
     "name": "stdout",
     "output_type": "stream",
     "text": [
      "   Albuquerque  Alexandria  Alpharetta  Ames  Anaheim  Anchorage  Ann Arbor  \\\n",
      "0            1           0           0     0        0          0          0   \n",
      "1            1           0           0     0        0          0          0   \n",
      "2            1           0           0     0        0          0          0   \n",
      "\n",
      "   Apex  Arlington  Atlanta  ...  Vancouver  Virginia Beach  Washington  \\\n",
      "0     0          0        0  ...          0               0           0   \n",
      "1     0          0        0  ...          0               0           0   \n",
      "2     0          0        0  ...          0               0           0   \n",
      "\n",
      "   West Des Moines  West Hollywood  West Lafayette  West New York  \\\n",
      "0                0               0               0              0   \n",
      "1                0               0               0              0   \n",
      "2                0               0               0              0   \n",
      "\n",
      "   Winston Salem  other  NaN  \n",
      "0              0      0    0  \n",
      "1              0      0    0  \n",
      "2              0      0    0  \n",
      "\n",
      "[3 rows x 179 columns]\n"
     ]
    }
   ],
   "source": [
    "#this converts a categorical column to a numeric, dummy encoded representation suitable for many machine learning models. The NaN handling and astype(int) give us an clean 0/1 encoding.\n",
    "\n",
    "dummies = pd.get_dummies(df7['cityname'], dummy_na=True) \n",
    "dummies = dummies.astype(int)\n",
    "print(dummies.head(3))"
   ]
  },
  {
   "cell_type": "code",
   "execution_count": null,
   "id": "60305c2b",
   "metadata": {},
   "outputs": [],
   "source": []
  },
  {
   "cell_type": "code",
   "execution_count": 37,
   "id": "24a8b026",
   "metadata": {
    "scrolled": true
   },
   "outputs": [
    {
     "data": {
      "text/html": [
       "<div>\n",
       "<style scoped>\n",
       "    .dataframe tbody tr th:only-of-type {\n",
       "        vertical-align: middle;\n",
       "    }\n",
       "\n",
       "    .dataframe tbody tr th {\n",
       "        vertical-align: top;\n",
       "    }\n",
       "\n",
       "    .dataframe thead th {\n",
       "        text-align: right;\n",
       "    }\n",
       "</style>\n",
       "<table border=\"1\" class=\"dataframe\">\n",
       "  <thead>\n",
       "    <tr style=\"text-align: right;\">\n",
       "      <th></th>\n",
       "      <th>bathrooms</th>\n",
       "      <th>bedrooms</th>\n",
       "      <th>square_feet</th>\n",
       "      <th>cityname</th>\n",
       "      <th>price</th>\n",
       "      <th>price_per_sqft</th>\n",
       "      <th>Albuquerque</th>\n",
       "      <th>Alexandria</th>\n",
       "      <th>Alpharetta</th>\n",
       "      <th>Ames</th>\n",
       "      <th>...</th>\n",
       "      <th>Urbana</th>\n",
       "      <th>Vancouver</th>\n",
       "      <th>Virginia Beach</th>\n",
       "      <th>Washington</th>\n",
       "      <th>West Des Moines</th>\n",
       "      <th>West Hollywood</th>\n",
       "      <th>West Lafayette</th>\n",
       "      <th>West New York</th>\n",
       "      <th>Winston Salem</th>\n",
       "      <th>NaN</th>\n",
       "    </tr>\n",
       "  </thead>\n",
       "  <tbody>\n",
       "    <tr>\n",
       "      <th>0</th>\n",
       "      <td>1.0</td>\n",
       "      <td>1.0</td>\n",
       "      <td>535</td>\n",
       "      <td>Albuquerque</td>\n",
       "      <td>6.620073</td>\n",
       "      <td>140186.915888</td>\n",
       "      <td>1</td>\n",
       "      <td>0</td>\n",
       "      <td>0</td>\n",
       "      <td>0</td>\n",
       "      <td>...</td>\n",
       "      <td>0</td>\n",
       "      <td>0</td>\n",
       "      <td>0</td>\n",
       "      <td>0</td>\n",
       "      <td>0</td>\n",
       "      <td>0</td>\n",
       "      <td>0</td>\n",
       "      <td>0</td>\n",
       "      <td>0</td>\n",
       "      <td>0</td>\n",
       "    </tr>\n",
       "    <tr>\n",
       "      <th>1</th>\n",
       "      <td>1.0</td>\n",
       "      <td>1.0</td>\n",
       "      <td>535</td>\n",
       "      <td>Albuquerque</td>\n",
       "      <td>6.620073</td>\n",
       "      <td>140186.915888</td>\n",
       "      <td>1</td>\n",
       "      <td>0</td>\n",
       "      <td>0</td>\n",
       "      <td>0</td>\n",
       "      <td>...</td>\n",
       "      <td>0</td>\n",
       "      <td>0</td>\n",
       "      <td>0</td>\n",
       "      <td>0</td>\n",
       "      <td>0</td>\n",
       "      <td>0</td>\n",
       "      <td>0</td>\n",
       "      <td>0</td>\n",
       "      <td>0</td>\n",
       "      <td>0</td>\n",
       "    </tr>\n",
       "    <tr>\n",
       "      <th>2</th>\n",
       "      <td>1.0</td>\n",
       "      <td>1.0</td>\n",
       "      <td>562</td>\n",
       "      <td>Albuquerque</td>\n",
       "      <td>6.529419</td>\n",
       "      <td>121886.120996</td>\n",
       "      <td>1</td>\n",
       "      <td>0</td>\n",
       "      <td>0</td>\n",
       "      <td>0</td>\n",
       "      <td>...</td>\n",
       "      <td>0</td>\n",
       "      <td>0</td>\n",
       "      <td>0</td>\n",
       "      <td>0</td>\n",
       "      <td>0</td>\n",
       "      <td>0</td>\n",
       "      <td>0</td>\n",
       "      <td>0</td>\n",
       "      <td>0</td>\n",
       "      <td>0</td>\n",
       "    </tr>\n",
       "    <tr>\n",
       "      <th>3</th>\n",
       "      <td>1.0</td>\n",
       "      <td>1.0</td>\n",
       "      <td>622</td>\n",
       "      <td>Albuquerque</td>\n",
       "      <td>6.605298</td>\n",
       "      <td>118810.289389</td>\n",
       "      <td>1</td>\n",
       "      <td>0</td>\n",
       "      <td>0</td>\n",
       "      <td>0</td>\n",
       "      <td>...</td>\n",
       "      <td>0</td>\n",
       "      <td>0</td>\n",
       "      <td>0</td>\n",
       "      <td>0</td>\n",
       "      <td>0</td>\n",
       "      <td>0</td>\n",
       "      <td>0</td>\n",
       "      <td>0</td>\n",
       "      <td>0</td>\n",
       "      <td>0</td>\n",
       "    </tr>\n",
       "    <tr>\n",
       "      <th>4</th>\n",
       "      <td>1.0</td>\n",
       "      <td>1.0</td>\n",
       "      <td>656</td>\n",
       "      <td>Albuquerque</td>\n",
       "      <td>6.703188</td>\n",
       "      <td>124237.804878</td>\n",
       "      <td>1</td>\n",
       "      <td>0</td>\n",
       "      <td>0</td>\n",
       "      <td>0</td>\n",
       "      <td>...</td>\n",
       "      <td>0</td>\n",
       "      <td>0</td>\n",
       "      <td>0</td>\n",
       "      <td>0</td>\n",
       "      <td>0</td>\n",
       "      <td>0</td>\n",
       "      <td>0</td>\n",
       "      <td>0</td>\n",
       "      <td>0</td>\n",
       "      <td>0</td>\n",
       "    </tr>\n",
       "  </tbody>\n",
       "</table>\n",
       "<p>5 rows × 184 columns</p>\n",
       "</div>"
      ],
      "text/plain": [
       "   bathrooms  bedrooms  square_feet     cityname     price  price_per_sqft  \\\n",
       "0        1.0       1.0          535  Albuquerque  6.620073   140186.915888   \n",
       "1        1.0       1.0          535  Albuquerque  6.620073   140186.915888   \n",
       "2        1.0       1.0          562  Albuquerque  6.529419   121886.120996   \n",
       "3        1.0       1.0          622  Albuquerque  6.605298   118810.289389   \n",
       "4        1.0       1.0          656  Albuquerque  6.703188   124237.804878   \n",
       "\n",
       "   Albuquerque  Alexandria  Alpharetta  Ames  ...  Urbana  Vancouver  \\\n",
       "0            1           0           0     0  ...       0          0   \n",
       "1            1           0           0     0  ...       0          0   \n",
       "2            1           0           0     0  ...       0          0   \n",
       "3            1           0           0     0  ...       0          0   \n",
       "4            1           0           0     0  ...       0          0   \n",
       "\n",
       "   Virginia Beach  Washington  West Des Moines  West Hollywood  \\\n",
       "0               0           0                0               0   \n",
       "1               0           0                0               0   \n",
       "2               0           0                0               0   \n",
       "3               0           0                0               0   \n",
       "4               0           0                0               0   \n",
       "\n",
       "   West Lafayette  West New York  Winston Salem  NaN  \n",
       "0               0              0              0    0  \n",
       "1               0              0              0    0  \n",
       "2               0              0              0    0  \n",
       "3               0              0              0    0  \n",
       "4               0              0              0    0  \n",
       "\n",
       "[5 rows x 184 columns]"
      ]
     },
     "execution_count": 37,
     "metadata": {},
     "output_type": "execute_result"
    }
   ],
   "source": [
    "df8 = pd.concat([df7,dummies.drop('other', axis= 'columns')], axis = 'columns') #adding city in unique form of 0 and 1\n",
    "df8.head()"
   ]
  },
  {
   "cell_type": "code",
   "execution_count": 38,
   "id": "329fb483",
   "metadata": {},
   "outputs": [
    {
     "data": {
      "text/html": [
       "<div>\n",
       "<style scoped>\n",
       "    .dataframe tbody tr th:only-of-type {\n",
       "        vertical-align: middle;\n",
       "    }\n",
       "\n",
       "    .dataframe tbody tr th {\n",
       "        vertical-align: top;\n",
       "    }\n",
       "\n",
       "    .dataframe thead th {\n",
       "        text-align: right;\n",
       "    }\n",
       "</style>\n",
       "<table border=\"1\" class=\"dataframe\">\n",
       "  <thead>\n",
       "    <tr style=\"text-align: right;\">\n",
       "      <th></th>\n",
       "      <th>bathrooms</th>\n",
       "      <th>bedrooms</th>\n",
       "      <th>square_feet</th>\n",
       "      <th>price</th>\n",
       "      <th>price_per_sqft</th>\n",
       "      <th>Albuquerque</th>\n",
       "      <th>Alexandria</th>\n",
       "      <th>Alpharetta</th>\n",
       "      <th>Ames</th>\n",
       "      <th>Anaheim</th>\n",
       "      <th>...</th>\n",
       "      <th>Urbana</th>\n",
       "      <th>Vancouver</th>\n",
       "      <th>Virginia Beach</th>\n",
       "      <th>Washington</th>\n",
       "      <th>West Des Moines</th>\n",
       "      <th>West Hollywood</th>\n",
       "      <th>West Lafayette</th>\n",
       "      <th>West New York</th>\n",
       "      <th>Winston Salem</th>\n",
       "      <th>NaN</th>\n",
       "    </tr>\n",
       "  </thead>\n",
       "  <tbody>\n",
       "    <tr>\n",
       "      <th>0</th>\n",
       "      <td>1.0</td>\n",
       "      <td>1.0</td>\n",
       "      <td>535</td>\n",
       "      <td>6.620073</td>\n",
       "      <td>140186.915888</td>\n",
       "      <td>1</td>\n",
       "      <td>0</td>\n",
       "      <td>0</td>\n",
       "      <td>0</td>\n",
       "      <td>0</td>\n",
       "      <td>...</td>\n",
       "      <td>0</td>\n",
       "      <td>0</td>\n",
       "      <td>0</td>\n",
       "      <td>0</td>\n",
       "      <td>0</td>\n",
       "      <td>0</td>\n",
       "      <td>0</td>\n",
       "      <td>0</td>\n",
       "      <td>0</td>\n",
       "      <td>0</td>\n",
       "    </tr>\n",
       "    <tr>\n",
       "      <th>1</th>\n",
       "      <td>1.0</td>\n",
       "      <td>1.0</td>\n",
       "      <td>535</td>\n",
       "      <td>6.620073</td>\n",
       "      <td>140186.915888</td>\n",
       "      <td>1</td>\n",
       "      <td>0</td>\n",
       "      <td>0</td>\n",
       "      <td>0</td>\n",
       "      <td>0</td>\n",
       "      <td>...</td>\n",
       "      <td>0</td>\n",
       "      <td>0</td>\n",
       "      <td>0</td>\n",
       "      <td>0</td>\n",
       "      <td>0</td>\n",
       "      <td>0</td>\n",
       "      <td>0</td>\n",
       "      <td>0</td>\n",
       "      <td>0</td>\n",
       "      <td>0</td>\n",
       "    </tr>\n",
       "    <tr>\n",
       "      <th>2</th>\n",
       "      <td>1.0</td>\n",
       "      <td>1.0</td>\n",
       "      <td>562</td>\n",
       "      <td>6.529419</td>\n",
       "      <td>121886.120996</td>\n",
       "      <td>1</td>\n",
       "      <td>0</td>\n",
       "      <td>0</td>\n",
       "      <td>0</td>\n",
       "      <td>0</td>\n",
       "      <td>...</td>\n",
       "      <td>0</td>\n",
       "      <td>0</td>\n",
       "      <td>0</td>\n",
       "      <td>0</td>\n",
       "      <td>0</td>\n",
       "      <td>0</td>\n",
       "      <td>0</td>\n",
       "      <td>0</td>\n",
       "      <td>0</td>\n",
       "      <td>0</td>\n",
       "    </tr>\n",
       "    <tr>\n",
       "      <th>3</th>\n",
       "      <td>1.0</td>\n",
       "      <td>1.0</td>\n",
       "      <td>622</td>\n",
       "      <td>6.605298</td>\n",
       "      <td>118810.289389</td>\n",
       "      <td>1</td>\n",
       "      <td>0</td>\n",
       "      <td>0</td>\n",
       "      <td>0</td>\n",
       "      <td>0</td>\n",
       "      <td>...</td>\n",
       "      <td>0</td>\n",
       "      <td>0</td>\n",
       "      <td>0</td>\n",
       "      <td>0</td>\n",
       "      <td>0</td>\n",
       "      <td>0</td>\n",
       "      <td>0</td>\n",
       "      <td>0</td>\n",
       "      <td>0</td>\n",
       "      <td>0</td>\n",
       "    </tr>\n",
       "    <tr>\n",
       "      <th>4</th>\n",
       "      <td>1.0</td>\n",
       "      <td>1.0</td>\n",
       "      <td>656</td>\n",
       "      <td>6.703188</td>\n",
       "      <td>124237.804878</td>\n",
       "      <td>1</td>\n",
       "      <td>0</td>\n",
       "      <td>0</td>\n",
       "      <td>0</td>\n",
       "      <td>0</td>\n",
       "      <td>...</td>\n",
       "      <td>0</td>\n",
       "      <td>0</td>\n",
       "      <td>0</td>\n",
       "      <td>0</td>\n",
       "      <td>0</td>\n",
       "      <td>0</td>\n",
       "      <td>0</td>\n",
       "      <td>0</td>\n",
       "      <td>0</td>\n",
       "      <td>0</td>\n",
       "    </tr>\n",
       "  </tbody>\n",
       "</table>\n",
       "<p>5 rows × 183 columns</p>\n",
       "</div>"
      ],
      "text/plain": [
       "   bathrooms  bedrooms  square_feet     price  price_per_sqft  Albuquerque  \\\n",
       "0        1.0       1.0          535  6.620073   140186.915888            1   \n",
       "1        1.0       1.0          535  6.620073   140186.915888            1   \n",
       "2        1.0       1.0          562  6.529419   121886.120996            1   \n",
       "3        1.0       1.0          622  6.605298   118810.289389            1   \n",
       "4        1.0       1.0          656  6.703188   124237.804878            1   \n",
       "\n",
       "   Alexandria  Alpharetta  Ames  Anaheim  ...  Urbana  Vancouver  \\\n",
       "0           0           0     0        0  ...       0          0   \n",
       "1           0           0     0        0  ...       0          0   \n",
       "2           0           0     0        0  ...       0          0   \n",
       "3           0           0     0        0  ...       0          0   \n",
       "4           0           0     0        0  ...       0          0   \n",
       "\n",
       "   Virginia Beach  Washington  West Des Moines  West Hollywood  \\\n",
       "0               0           0                0               0   \n",
       "1               0           0                0               0   \n",
       "2               0           0                0               0   \n",
       "3               0           0                0               0   \n",
       "4               0           0                0               0   \n",
       "\n",
       "   West Lafayette  West New York  Winston Salem  NaN  \n",
       "0               0              0              0    0  \n",
       "1               0              0              0    0  \n",
       "2               0              0              0    0  \n",
       "3               0              0              0    0  \n",
       "4               0              0              0    0  \n",
       "\n",
       "[5 rows x 183 columns]"
      ]
     },
     "execution_count": 38,
     "metadata": {},
     "output_type": "execute_result"
    }
   ],
   "source": [
    "df9 = df8.drop('cityname',axis = 'columns') #now no need of cityname\n",
    "df9.head()"
   ]
  },
  {
   "cell_type": "code",
   "execution_count": 39,
   "id": "1de6f9f3",
   "metadata": {},
   "outputs": [],
   "source": [
    "selected_columns = ['bathrooms', 'bedrooms', 'square_feet']\n",
    "# Create a new DataFrame with only the selected columns\n",
    "features = df9.drop('price',axis='columns')\n",
    "target = df9['price']"
   ]
  },
  {
   "cell_type": "code",
   "execution_count": 40,
   "id": "3fcb3c78",
   "metadata": {},
   "outputs": [],
   "source": [
    "#importing library\n",
    "from sklearn.model_selection import train_test_split\n",
    "from sklearn.linear_model import LinearRegression\n",
    "from sklearn.metrics import f1_score"
   ]
  },
  {
   "cell_type": "code",
   "execution_count": 41,
   "id": "7fbcad89",
   "metadata": {},
   "outputs": [],
   "source": [
    "X_train, X_test, y_train, y_test = train_test_split(features, target, test_size=0.2, random_state=30)"
   ]
  },
  {
   "cell_type": "code",
   "execution_count": 42,
   "id": "2cbc36ba",
   "metadata": {},
   "outputs": [
    {
     "data": {
      "text/plain": [
       "LinearRegression()"
      ]
     },
     "execution_count": 42,
     "metadata": {},
     "output_type": "execute_result"
    }
   ],
   "source": [
    "# Fit linear regression model\n",
    "model = LinearRegression()\n",
    "model.fit(X_train, y_train)"
   ]
  },
  {
   "cell_type": "code",
   "execution_count": 43,
   "id": "9be5651a",
   "metadata": {},
   "outputs": [],
   "source": [
    "# Make predictions on test set\n",
    "y_pred = model.predict(X_test)"
   ]
  },
  {
   "cell_type": "code",
   "execution_count": 44,
   "id": "d2985d16",
   "metadata": {},
   "outputs": [
    {
     "data": {
      "text/plain": [
       "0.9167283648645332"
      ]
     },
     "execution_count": 44,
     "metadata": {},
     "output_type": "execute_result"
    }
   ],
   "source": [
    "model.score(X_test,y_test)"
   ]
  },
  {
   "cell_type": "code",
   "execution_count": 45,
   "id": "97767985",
   "metadata": {},
   "outputs": [],
   "source": [
    "from sklearn.metrics import f1_score\n",
    "\n",
    "from sklearn.metrics import median_absolute_error\n",
    "\n",
    "# Calculate median of y_true\n",
    "median = np.median(y_test)  \n",
    "\n",
    "\n",
    "# Bin into 2 classes \n",
    "y_test = (y_test > median).astype(int)\n",
    "y_pred= (y_pred > median).astype(int)\n",
    "\n",
    "f1 = f1_score(y_test, y_pred)"
   ]
  },
  {
   "cell_type": "code",
   "execution_count": 46,
   "id": "fca9560f",
   "metadata": {},
   "outputs": [
    {
     "data": {
      "text/plain": [
       "0.9238578680203046"
      ]
     },
     "execution_count": 46,
     "metadata": {},
     "output_type": "execute_result"
    }
   ],
   "source": [
    "f1"
   ]
  }
 ],
 "metadata": {
  "kernelspec": {
   "display_name": "Python 3",
   "language": "python",
   "name": "python3"
  },
  "language_info": {
   "codemirror_mode": {
    "name": "ipython",
    "version": 3
   },
   "file_extension": ".py",
   "mimetype": "text/x-python",
   "name": "python",
   "nbconvert_exporter": "python",
   "pygments_lexer": "ipython3",
   "version": "3.8.8"
  }
 },
 "nbformat": 4,
 "nbformat_minor": 5
}
